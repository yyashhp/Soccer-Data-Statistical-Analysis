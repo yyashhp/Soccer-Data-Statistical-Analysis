{
 "cells": [
  {
   "cell_type": "code",
   "execution_count": 42,
   "id": "76f0d170",
   "metadata": {},
   "outputs": [],
   "source": [
    "import pandas as pd\n",
    "import numpy as np\n",
    "import pandas as pd\n",
    "from sklearn.model_selection import train_test_split\n",
    "from sklearn.linear_model import LinearRegression\n",
    "from sklearn.metrics import mean_squared_error\n",
    "import matplotlib.pyplot as plt\n",
    "from sklearn.preprocessing import PolynomialFeatures\n",
    "from sklearn.linear_model import LinearRegression\n",
    "from sklearn.pipeline import make_pipeline\n",
    "from sklearn.preprocessing import StandardScaler, PolynomialFeatures\n",
    "from sklearn.linear_model import Ridge\n",
    "from sklearn.pipeline import make_pipeline\n",
    "from sklearn.model_selection import cross_val_score\n",
    "import warnings\n",
    "\n",
    "\n",
    "warnings.filterwarnings('ignore')\n",
    "datas =pd.read_csv(\"footballscores.csv\")\n"
   ]
  },
  {
   "cell_type": "markdown",
   "id": "2f3af37e",
   "metadata": {},
   "source": [
    "## Question 1 : Identifying if there is a comeback tendency after halftime\n"
   ]
  },
  {
   "cell_type": "code",
   "execution_count": 43,
   "id": "48963d86",
   "metadata": {},
   "outputs": [],
   "source": [
    "cleaned = datas.dropna(axis = 0)\n",
    "data = cleaned"
   ]
  },
  {
   "cell_type": "code",
   "execution_count": 44,
   "id": "b3ecbfdb",
   "metadata": {},
   "outputs": [],
   "source": [
    "def define_favorite(row):\n",
    "    if row['PSH'] < row['PSA']:\n",
    "        return row[\"HomeTeam\"]\n",
    "    elif row['PSA'] < row['PSH'] :\n",
    "        return row['AwayTeam']\n",
    "        \n",
    "        #This method will outline which of the teams is the favorite\n",
    "        \n",
    "def define_halftime_up(row):\n",
    "    if row['Favorite'] == row['HomeTeam'] and row['HTHG'] > row['HTAG']:\n",
    "        return 'Favored'\n",
    "    if row['Favorite'] == row['AwayTeam'] and row['HTHG'] < row['HTAG']:\n",
    "        return 'Favored'\n",
    "    if row['Favorite'] == row['AwayTeam'] and row['HTHG'] > row['HTAG']:\n",
    "        return 'Unfavored'\n",
    "    if row['Favorite'] == row['HomeTeam'] and row['HTHG'] < row['HTAG']:\n",
    "        return 'Unfavored'\n",
    "    if row['HTHG'] > 0:\n",
    "        return 'Unfavored'\n",
    "    return 'Tied'\n",
    "\n",
    "#This method will outline if the favored or unfavored team is up at halftime, relative to pre-match odds\n",
    "#This method defines the situation where teams are tied, and having more than one goal each (1-1, 2-2, etc)\n",
    "# to be scenarios where the unfavored team is outperforming at halftime, and counts them as being \"up\", relative to pre match odds\n",
    "#IF the game is 0-0 then it is classifed as a tie.\n",
    "\n",
    "def define_comeback(row):\n",
    "    if row['FTAG']>row['FTHG']:\n",
    "        winner = row['AwayTeam']\n",
    "    elif row['FTHG']>row['FTAG']:\n",
    "        winner = row['HomeTeam']\n",
    "    else:\n",
    "        winner = \"Draw\"\n",
    "    if row['Half_up'] == \"Unfavored\":\n",
    "        if winner == row['Favorite']:\n",
    "            return True\n",
    "        else:\n",
    "            return False\n",
    "    if row['Half_up'] == \"Favored\":\n",
    "        if winner != row['Favorite'] or winner == \"Draw\":\n",
    "            return True\n",
    "        else:\n",
    "            return False\n",
    "    if row['Half_up'] == \"Tied\":\n",
    "        if winner != row['Favorite']:\n",
    "            return True\n",
    "        else:\n",
    "            return False\n",
    "# This method will define comebacks by determining the winner of the match.\n",
    "#Then, if the winner was not up at halftime, it counts as a comeback. Also, if the game was tied at half and the unfavored team won, it counts as a comeback\n",
    "#This tries to account for many circumstances, as there is more nuance to a comeback when we consider the odds\n",
    "\n",
    "\n",
    "def define_true_comeback(row):\n",
    "    if row['Half_up'] == \"Favored\":\n",
    "            return row['Comeback']\n",
    "    #So, Unfavored team up at half time\n",
    "    elif row[\"Favorite\"] == row['HomeTeam']:\n",
    "        if row['Comeback']:\n",
    "            if row['HTHG']+1<row['HTAG']:\n",
    "                return True\n",
    "            if row['PSH']+1>row['PSA']:\n",
    "                return True\n",
    "            else:\n",
    "                return False\n",
    "        else:\n",
    "            return False\n",
    "    elif row[\"Favorite\"] == row['AwayTeam']:\n",
    "        if row['Comeback']:\n",
    "            if row['HTAG']+1<row['HTHG']:\n",
    "                return True\n",
    "            if row['PSA']+1>row['PSH']:\n",
    "                return True\n",
    "            else:\n",
    "                return False\n",
    "        else:\n",
    "            return False\n",
    "    return False\n",
    "\n",
    "#This method will place further restrictions on our count of a comeback, only counting those comebacks where:\n",
    "# - The unfavored team secured a comeback from being down at the half\n",
    "# - The favored team (when their odds were similar to the unfavored team) come back from a deficit/underperformanced tie\n",
    "# - The favored team (when their odds were generally much higher than the unfavored team) comes back from a deficit of more than one goal at the half\n",
    "\n",
    "\n",
    "\n"
   ]
  },
  {
   "cell_type": "code",
   "execution_count": 45,
   "id": "91d8bdd5",
   "metadata": {},
   "outputs": [],
   "source": [
    "data['Favorite'] = data.apply(define_favorite, axis=1)\n",
    "data['Half_up'] = data.apply(define_halftime_up, axis=1)\n",
    "data['Comeback'] = data.apply(define_comeback, axis=1)\n",
    "data['True_comeback'] = data.apply(define_true_comeback, axis=1)"
   ]
  },
  {
   "cell_type": "code",
   "execution_count": 46,
   "id": "3f601c2f",
   "metadata": {},
   "outputs": [
    {
     "name": "stdout",
     "output_type": "stream",
     "text": [
      "Percent comeback = 33.38887308489454\n",
      "Percent true comeback = 46.969328140214216\n",
      "Overall percent true comeback = 15.682529361563782\n"
     ]
    }
   ],
   "source": [
    "games = data['Comeback']\n",
    "comebacks = [i for i in games if i]\n",
    "comeback_test = data['True_comeback']\n",
    "true_comebacks = [i for i in comeback_test if i]\n",
    "\n",
    "print(f\"Percent comeback = {(len(comebacks)/len(games))*100}\")\n",
    "print(f\"Percent true comeback = {(len(true_comebacks)/len(comebacks))*100}\")\n",
    "print(f\"Overall percent true comeback = {(len(true_comebacks)/len(games))*100}\")\n",
    "\n",
    "#We see that a significant amount of comebacks are true comebacks, and they make up an non-negligible amount of total games\n",
    "\n",
    "\n"
   ]
  },
  {
   "cell_type": "code",
   "execution_count": 47,
   "id": "5a94fb4f",
   "metadata": {},
   "outputs": [],
   "source": [
    "data['HTG'] = data['HTHG'] + data['HTAG']\n",
    "data['FTG'] = data['FTHG'] + data['FTAG']\n",
    "data['SHG'] = data['FTG'] - data['HTG']"
   ]
  },
  {
   "cell_type": "code",
   "execution_count": 48,
   "id": "df76ed5e",
   "metadata": {},
   "outputs": [],
   "source": [
    "#Now to plot this with a regression\n",
    "\n",
    "\n",
    "def define_winning_goals(row):\n",
    "    if row['Half_up'] == \"Favored\":\n",
    "        if row['Favorite'] == row['HomeTeam']:\n",
    "            return row['HTHG']\n",
    "        else:\n",
    "            return row['HTAG']\n",
    "    else:\n",
    "        if row['Favorite'] == row['HomeTeam']:\n",
    "            return row['HTAG']\n",
    "        else:\n",
    "            return row['HTHG']\n",
    "        \n",
    "   #This method returns the amount of goals that the winning team at halftime has\n",
    "def define_losing_goals(row):\n",
    "    return row['HTG']-row['HTWG']\n",
    "    \n",
    "    #This method returns the amount of goals that the losing team at halftime has\n",
    "\n",
    "def define_winning_SH_goals(row):\n",
    "    if row['Half_up'] == \"Favored\":\n",
    "        if row['Favorite'] == row['HomeTeam']:\n",
    "            return row['FTHG']-row['HTHG']\n",
    "        else:\n",
    "            return row['FTAG'] - row['HTAG']\n",
    "    else:\n",
    "        if row['Favorite'] == row['HomeTeam']:\n",
    "            return row['FTAG'] - row['HTAG']\n",
    "        else:\n",
    "            return row['FTHG'] - row['HTHG']\n",
    "        \n",
    "    #This method returns the amount of goals that the winning team at halftime scores in the second half\n",
    "    \n",
    "def define_losing_SH_goals(row):\n",
    "    return row['FTG']-row['HTWG']-row['HTLG']-row['SHWG']\n",
    "    \n",
    "    #This method returns the amount of goals that the losing team at halftime scores in the second half\n",
    "\n",
    "\n",
    "data['HTWG'] = data.apply(define_winning_goals, axis=1)\n",
    "data['HTLG'] = data.apply(define_losing_goals, axis=1)\n",
    "data['SHWG'] = data.apply(define_winning_SH_goals, axis=1)\n",
    "data['SHLG'] = data.apply(define_losing_SH_goals, axis=1)\n"
   ]
  },
  {
   "cell_type": "code",
   "execution_count": 49,
   "id": "7bada3fb",
   "metadata": {},
   "outputs": [
    {
     "name": "stdout",
     "output_type": "stream",
     "text": [
      "Winning Coefficients:[ 0.17123412 -0.14807847]\n",
      "Losing Coefficients: [-0.07875324  0.09916324]\n",
      "features['HTWG', 'HTLG']\n",
      "---------------------------\n",
      "---------------------------\n"
     ]
    },
    {
     "data": {
      "image/png": "[encoded data removed]",
      "text/plain": [
       "<Figure size 432x288 with 1 Axes>"
      ]
     },
     "metadata": {
      "needs_background": "light"
     },
     "output_type": "display_data"
    },
    {
     "data": {
      "image/png": "[encoded data removed]",
      "text/plain": [
       "<Figure size 432x288 with 1 Axes>"
      ]
     },
     "metadata": {
      "needs_background": "light"
     },
     "output_type": "display_data"
    }
   ],
   "source": [
    "\n",
    "features = ['HTWG', 'HTLG']\n",
    "target = 'ShWG'\n",
    "\n",
    "data_copy = data.copy()\n",
    "\n",
    "\n",
    "\n",
    "\n",
    "# Split the data into training and testing sets\n",
    "train_data, test_data = train_test_split(data, test_size=0.2, random_state=42)\n",
    "\n",
    "# Create a linear regression model\n",
    "winning_model = LinearRegression()\n",
    "\n",
    "losing_model = LinearRegression()\n",
    "\n",
    "# Fit the model on the training data\n",
    "winning_model.fit(train_data[['HTWG', 'HTLG']], train_data['SHWG'])\n",
    "\n",
    "losing_model.fit(train_data[['HTWG', 'HTLG']], train_data['SHLG'])\n",
    "\n",
    "\n",
    "test_data['SHWG_Pred'] = winning_model.predict(test_data[features])\n",
    "test_data['SHLG_Pred'] = losing_model.predict(test_data[features])\n",
    "\n",
    "\n",
    "\n",
    "\n",
    "\n",
    "# Compare actual second-half scoring difference with predicted second-half scoring difference\n",
    "test_data['SHWGPredictionError'] = test_data['SHWG'] - test_data['SHWG_Pred']\n",
    "test_data['SHLGPredictionError'] = test_data['SHLG'] - test_data['SHLG_Pred']\n",
    "\n",
    "winning_scoring = test_data.groupby('HTWG')['SHWGPredictionError'].mean()\n",
    "losing_scoring = test_data.groupby('HTLG')['SHLGPredictionError'].mean()\n",
    "\n",
    "\n",
    "\n",
    "winning_coeffs = winning_model.coef_\n",
    "losing_coeffs = losing_model.coef_\n",
    "\n",
    "\n",
    "\n",
    "\n",
    "\n",
    "print(f'Winning Coefficients:{winning_coeffs}')\n",
    "print(f'Losing Coefficients: {losing_coeffs}')\n",
    "print(f'features{features}')\n",
    "\n",
    "\n",
    "\n",
    "print(\"---------------------------\")\n",
    "print(\"---------------------------\")\n",
    "\n",
    "# Plotting the results\n",
    "plt.scatter(test_data['HTWG'], test_data['SHWG'], label='Actual', alpha = 0.1)\n",
    "plt.scatter(test_data['HTWG'], test_data['SHWG_Pred'], label='Predicted', alpha = 0.1)\n",
    "\n",
    "plt.xlabel('(HTWG)')\n",
    "plt.ylabel('SHWG')\n",
    "plt.legend()\n",
    "plt.title('HTWG vs SHWG_Pred diff')\n",
    "plt.show()\n",
    "      \n",
    "plt.scatter(test_data['HTLG'], test_data['SHLG'], label='Actual', alpha = 0.1)\n",
    "plt.scatter(test_data['HTLG'], test_data['SHLG_Pred'], label='Predicted', alpha = 0.1)\n",
    "\n",
    "plt.xlabel('(HTLG)')\n",
    "plt.ylabel('SHLG')\n",
    "plt.legend()\n",
    "plt.title('HTLG vs SHLG_Pred diff')\n",
    "plt.show()\n",
    "\n",
    "\n"
   ]
  },
  {
   "cell_type": "markdown",
   "id": "cc9654f3",
   "metadata": {},
   "source": [
    "The coefficients can be interpreted as such: the winning team at half time tends to have more variability in the number of goals they score in the second half than the losing team at half time-demonstrated by the winning_model having higher coefficients for both predictors\n",
    "\n",
    "The winning team at halftime may be more likely to have a high scoring second half than the losing team (makes sense)\n",
    "\n",
    "In general, the fact that the losing_model has coefficients that are similiar (though lower) than the winning_model makes it seem that the second half performance of both teams is not expected to be too different from each other, and because we have seen\n",
    "\n",
    "The percentage of comebacks to be non-negligibile, it details that comebacks do happen with a fairly high frequency, though they are of course not to be expected. Even then, there are a recognizable amount of situations where situations that are deemed extremely unlikely had occured\n",
    "\n"
   ]
  },
  {
   "cell_type": "markdown",
   "id": "4a539ca8",
   "metadata": {},
   "source": [
    "## Question 2 : Identifying if there is \"momentum\" in the total amount of goals scored in the game; does a high scoring first-half imply a high(er) scoring second half? Or is the inverse true? Or neither?\n",
    "\n",
    "\n",
    "\n",
    "\n",
    "\n"
   ]
  },
  {
   "cell_type": "code",
   "execution_count": 50,
   "id": "a34be4aa",
   "metadata": {},
   "outputs": [],
   "source": [
    "data['HTG'] = data['HTHG'] + data['HTAG']\n",
    "data['FTG'] = data['FTHG'] + data['FTAG']\n",
    "data['SHG'] = data['FTG'] - data['HTG']\n",
    "def favorite_htg(row):\n",
    "    if row['Favorite']==row['HomeTeam']:\n",
    "        return row[\"HTHG\"]\n",
    "    else:\n",
    "        return row['HTAG']\n",
    "    #This method returns the number of goals that the favorite team has at halftime\n",
    "def unfavorite_htg(row):\n",
    "    if row['Favorite']==row['HomeTeam']:\n",
    "        return row[\"HTAG\"]\n",
    "    else:\n",
    "        return row['HTHG']\n",
    "    \n",
    "        #This method returns the number of goals that the unfavorite team has at halftime\n",
    "\n",
    "data['Favorite_htg'] = data.apply(favorite_htg, axis=1)\n",
    "data['Unfavorite_htg'] = data.apply(unfavorite_htg, axis=1)\n",
    "\n"
   ]
  },
  {
   "cell_type": "code",
   "execution_count": 51,
   "id": "7d36eaa4",
   "metadata": {},
   "outputs": [
    {
     "name": "stdout",
     "output_type": "stream",
     "text": [
      "---------------------------\n",
      "Linear Coefficients:[ 0.02721632  0.03940115 -0.05814303  0.28947978 -0.06964792 -0.01293387\n",
      "  0.00732626]\n",
      "features['Favorite_htg', 'Unfavorite_htg', 'PSH', 'PSD', 'PSA', 'ov25', 'un25']\n",
      "---------------------------\n"
     ]
    },
    {
     "data": {
      "image/png": "[encoded data removed]",
      "text/plain": [
       "<Figure size 432x288 with 1 Axes>"
      ]
     },
     "metadata": {
      "needs_background": "light"
     },
     "output_type": "display_data"
    }
   ],
   "source": [
    "\n",
    "features = ['Favorite_htg', 'Unfavorite_htg', 'PSH','PSD', 'PSA', 'ov25', 'un25']\n",
    "target = 'SHG'\n",
    "\n",
    "data_copy = data.copy()\n",
    "\n",
    "train_data, test_data = train_test_split(data, test_size=0.2, random_state=42)\n",
    "\n",
    "# Create a linear regression model\n",
    "model = LinearRegression()\n",
    "\n",
    "\n",
    "# Fit the model on the training data\n",
    "model.fit(train_data[['Favorite_htg', 'Unfavorite_htg', 'PSH','PSD', 'PSA', 'ov25', 'un25']], train_data['SHG'])\n",
    "\n",
    "\n",
    "test_data['SHG_Pred'] = model.predict(test_data[features])\n",
    "\n",
    "\n",
    "\n",
    "mse = mean_squared_error(test_data[target], test_data['SHG_Pred'])\n",
    "\n",
    "\n",
    "\n",
    "# Compare actual second-half scoring with predicted second-half scoring\n",
    "test_data['PredictionError'] = test_data[target] - test_data['SHG_Pred']\n",
    "\n",
    "\n",
    "# Analyze the results to see if there is a trend in overall scoring\n",
    "Scoring = test_data.groupby('HTG')['PredictionError'].mean()\n",
    "\n",
    "\n",
    "coef = model.score(test_data[features], test_data[target])\n",
    "coeffs = model.coef_\n",
    "\n",
    "\n",
    "\n",
    "print(\"---------------------------\")\n",
    "\n",
    "\n",
    "\n",
    "print(f'Linear Coefficients:{coeffs}')\n",
    "print(f'features{features}')\n",
    "\n",
    "\n",
    "\n",
    "print(\"---------------------------\")\n",
    "\n",
    "# Plotting the results\n",
    "plt.scatter(test_data['HTG'], test_data['SHG'], label='Actual', alpha = 0.1)\n",
    "plt.scatter(test_data['HTG'], test_data['SHG_Pred'], label='Predicted', alpha = 0.1)\n",
    "\n",
    "plt.xlabel('(HTG)')\n",
    "plt.ylabel('SHG')\n",
    "plt.legend()\n",
    "plt.title('HTG vs SHG_Pred diff')\n",
    "plt.show()"
   ]
  },
  {
   "cell_type": "markdown",
   "id": "515b2c8a",
   "metadata": {},
   "source": [
    "We can see the coeficients, and understand that there seems to be a positive correlation on the number of goals\n",
    "\n",
    "In the first half. In general, when the unfavorite team has more goals in the first half it has a more significant effect on the goals in the second half (this makes sense, as most of the time when the unfavored team has goals, the favored team will also have goals. The converse is not necessarily true)\n",
    "\n",
    "Also, there are more goals expected when there the odds are skewed more towards one team ,which makes sense. This is also shown by low chances of a draw (Higher PSD) causing an expectation of more goals\n",
    "\n",
    "Finally, it is intuitive that low ov25 correlates with more goals, and lower un25 correlates with less goals\n",
    "\n",
    "In general, more goals in the first half seems to predict more goals in the second half.\n",
    "\n",
    "This indicates a trend of momentum as it pertains to more goals in the first half transititioning to a high scoring second half\n",
    "\n",
    "We will do more observation of averages. Due to the data (of goals) being all in integers, it makes it difficult to plot even a polynomial regression, to observe a downward trend that is present when the number of goals in the first half is very large. We can see this through other visualization though."
   ]
  },
  {
   "cell_type": "code",
   "execution_count": 52,
   "id": "8fbf6154",
   "metadata": {},
   "outputs": [
    {
     "data": {
      "image/png": "[encoded data removed]",
      "text/plain": [
       "<Figure size 432x288 with 1 Axes>"
      ]
     },
     "metadata": {
      "needs_background": "light"
     },
     "output_type": "display_data"
    }
   ],
   "source": [
    "\n",
    "import matplotlib.pyplot as plt\n",
    "\n",
    "# Scatter plot\n",
    "plt.scatter(data['HTG'], data['SHG'], alpha = 0.05 \n",
    "           )\n",
    "\n",
    "# Adding labels and title\n",
    "plt.xlabel('First Half Goals (HTHG)')\n",
    "plt.ylabel('Second Half Scoring Difference')\n",
    "plt.title('Scatter Plot: First Half Goals vs. Second Half Goals')\n",
    "\n",
    "# Show the plot\n",
    "plt.show()\n"
   ]
  },
  {
   "cell_type": "code",
   "execution_count": 53,
   "id": "26b9e4dd",
   "metadata": {},
   "outputs": [
    {
     "data": {
      "image/png": "[encoded data removed]",
      "text/plain": [
       "<Figure size 432x288 with 1 Axes>"
      ]
     },
     "metadata": {
      "needs_background": "light"
     },
     "output_type": "display_data"
    }
   ],
   "source": [
    "\n",
    "\n",
    "# Group by 'HTHG' and calculate the mean of 'SecondHalf_Scoring_Difference'\n",
    "grouped_data = data.groupby('HTG')['SHG'].mean().reset_index()\n",
    "\n",
    "# Bar plot\n",
    "plt.bar(grouped_data['HTG'], grouped_data['SHG'])\n",
    "\n",
    "# Adding labels and title\n",
    "plt.xlabel('First Half Goals (HTG)')\n",
    "plt.ylabel('SHG')\n",
    "plt.title('HTG vs SHG')\n",
    "\n",
    "# Show the plot\n",
    "plt.show()\n"
   ]
  },
  {
   "cell_type": "markdown",
   "id": "dbf48814",
   "metadata": {},
   "source": [
    "Finally, from these last two plots, we could see that the predicted trend of the regression hold, until we observe an extremely large number of goals in the first half (7-8), which has observed results of a lower scoring second half. \n",
    "\n",
    "Overall, the idea of a momentum tendency is very intuitive. You can expect that if the first half is low-scoring, the teams could be very close in skill,  or it could be that both defenses having a strong day, or attackers having a bad day. In this case, you would expect the same to hold in the second half, and for it to remain a close match as it was in the first half, with few goals.\n",
    "\n",
    "Also, if many goals are scored in the first half, it makes sense that it could be the case that the teams' defenses are having an off day, or teams are not as evenly matched, causing more chances to be created than there would be in a slower paced game. So, if there are a higher number of goals scored in the first half, it would make sense that there are also a higher number of goals in the second half, as the teams would still have the same parameters that caused the higher number of goals to occur in the first place.\n",
    "\n",
    "Finally, to explain why an extremely high number of goals may result in less goals in the second half, which is something that breaks the observed trend and rationale, it is understandable that in this case, it is likely one team has a large lead over another. In this case, the leading team would often sub off starters and play a slower pace, focusing on not conceding and maintaining their lead, rather than growing it. So, with added focus on defense for the dominant team, the scoring would be slow in the second half. In another case where both teams have scored many goals, it is sensible that the players may be tired, and also that managers may make substitutions to try and clean things up. As a result, in these extreme scoring cases, it makes sense that there is a lack of scoring in the second half. However, for the majority of games, the momentum trend still holds. \n"
   ]
  }
 ],
 "metadata": {
  "kernelspec": {
   "display_name": "Python 3 (ipykernel)",
   "language": "python",
   "name": "python3"
  },
  "language_info": {
   "codemirror_mode": {
    "name": "ipython",
    "version": 3
   },
   "file_extension": ".py",
   "mimetype": "text/x-python",
   "name": "python",
   "nbconvert_exporter": "python",
   "pygments_lexer": "ipython3",
   "version": "3.9.12"
  }
 },
 "nbformat": 4,
 "nbformat_minor": 5
}
